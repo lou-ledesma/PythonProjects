{
 "cells": [
  {
   "cell_type": "code",
   "execution_count": null,
   "id": "d8ca310e",
   "metadata": {
    "id": "4fd683a3"
   },
   "outputs": [],
   "source": [
    "import pandas as pd\n",
    "import numpy as np\n",
    "from sklearn.linear_model import LinearRegression\n",
    "from sklearn.model_selection import train_test_split\n",
    "from scipy.stats import norm\n",
    "import datetime\n",
    "from datetime import date\n",
    "import requests\n",
    "from bs4 import BeautifulSoup\n",
    "import os\n",
    "import sys\n",
    "\n",
    "import warnings\n",
    "warnings.filterwarnings(\"ignore\")"
   ]
  },
  {
   "cell_type": "code",
   "execution_count": null,
   "id": "e8ec2e7c",
   "metadata": {
    "id": "dc364b1b"
   },
   "outputs": [],
   "source": [
    "def ConvertStrToTime(time_str):\n",
    "    return str(datetime.datetime.strptime(time_str, '%M:%S').time())\n",
    "\n",
    "def time_to_sec(t):\n",
    "    h, m, s = map(int, t.split(':'))\n",
    "    return h * 3600 + m * 60 + s"
   ]
  },
  {
   "cell_type": "markdown",
   "id": "29a3b7d5",
   "metadata": {},
   "source": [
    "### If you are running script for singular player, uncomment the code right below this cell, update to desired values and run script from the start."
   ]
  },
  {
   "cell_type": "code",
   "execution_count": null,
   "id": "e11ac0f8",
   "metadata": {
    "id": "63efc15e"
   },
   "outputs": [],
   "source": [
    "# player_name  = 'James Harden'\n",
    "# opposing_team = 'MIL'\n",
    "# player_prop = .5 + 4\n",
    "# fd_odds = \"O\"\n",
    "#  \n",
    "# # Home Game\n",
    "# home = 0"
   ]
  },
  {
   "cell_type": "code",
   "execution_count": null,
   "id": "b6ea429a",
   "metadata": {},
   "outputs": [],
   "source": [
    "# Automatically Set Away to opposite of home\n",
    "if home == 0:\n",
    "    away = 1\n",
    "else:\n",
    "    away = 0"
   ]
  },
  {
   "cell_type": "code",
   "execution_count": null,
   "id": "020482f8",
   "metadata": {},
   "outputs": [],
   "source": [
    "fwd = os.getcwd()"
   ]
  },
  {
   "cell_type": "markdown",
   "id": "63404682",
   "metadata": {
    "id": "9285acef"
   },
   "source": [
    "## Data Extract 1: Extracting Player Data"
   ]
  },
  {
   "cell_type": "code",
   "execution_count": null,
   "id": "da1aba5b",
   "metadata": {
    "id": "a28ce785"
   },
   "outputs": [],
   "source": [
    "# Desired Year Range for data extraction\n",
    "today = date.today()\n",
    "current_year = today.strftime(\"%Y\")\n",
    "end_range = int(current_year) + 1\n",
    "start_range = end_range - 2\n",
    "\n",
    "# Integrate special logic for Miles Bridges since he likes to beat women and fuck up my code logic in the process...\n",
    "if (player_name == 'Miles Bridges') or (player_name == 'Ja Morant'):\n",
    "    years = list(range(start_range - 1, end_range))\n",
    "else:\n",
    "    years = list(range(start_range, end_range))\n",
    "    \n",
    "# Extract URL_Parameter/BBRef_PlayerID from mapping file\n",
    "mapping = pd.read_excel('REFERENCE TABLE - Player URL Mapping 2023-2024 Season.xlsx')\n",
    "\n",
    "if any(mapping['Name'] == player_name.lower()):\n",
    "    player_id = list(mapping['URL_Param'][mapping['Name'] == player_name.lower()])[0]\n",
    "    player_position = list(mapping['Pos'][mapping['Name'] == player_name.lower()])[0]\n",
    "else:\n",
    "    raise IndexError(\"Main Script Error: Player not in reference file! If you are in the BulkUpload script, this row will get skipped.\")\n",
    "    sys.exit(0)\n",
    "\n",
    "df_list = []\n",
    "\n",
    "for year in years:\n",
    "    url = f'https://www.basketball-reference.com/players/l/{player_id}/gamelog/{year}'\n",
    "    try:\n",
    "        data = requests.get(url) #retrieve data from basketball reference\n",
    "        page = data.text #extract html\n",
    "\n",
    "        soup = BeautifulSoup(page, 'html.parser') # parse html\n",
    "        pgl_basic_table = soup.find(id=\"pgl_basic\") #locate the pgl_basic table\n",
    "        pgl_df = pd.read_html(str(pgl_basic_table))[0] #read it in to pandas\n",
    "        df_list.append(pgl_df) # add to list of dfs\n",
    "    except ValueError:\n",
    "        continue\n",
    "\n",
    "player_data = pd.concat(df_list)"
   ]
  },
  {
   "cell_type": "code",
   "execution_count": null,
   "id": "dacd386e",
   "metadata": {
    "id": "85e091ef"
   },
   "outputs": [],
   "source": [
    "player_data = player_data[player_data['Tm'] != 'Tm']"
   ]
  },
  {
   "cell_type": "markdown",
   "id": "6b7421f8",
   "metadata": {
    "id": "ea064f47"
   },
   "source": [
    "## Data Extract 2: Extracting Team Data"
   ]
  },
  {
   "cell_type": "code",
   "execution_count": null,
   "id": "58fee841",
   "metadata": {
    "id": "d113b156"
   },
   "outputs": [],
   "source": [
    "player_teams = list(player_data['Tm'].unique())\n",
    "\n",
    "team_df_list = []\n",
    "\n",
    "for year in years:\n",
    "    for team in player_teams:\n",
    "        url = f'https://www.basketball-reference.com/teams/{team}/{year}/gamelog/'\n",
    "\n",
    "        data = requests.get(url) #retrieve data from basketball reference\n",
    "        page = data.text #extract html\n",
    "\n",
    "        soup = BeautifulSoup(page, 'html.parser') # parse html\n",
    "        tgl_basic_table = soup.find(id=\"tgl_basic\") #locate the tgl_basic table\n",
    "        df = pd.read_html(str(tgl_basic_table))[0] #read it in to pandas\n",
    "        df.columns = df.columns.droplevel(0)  # Clean the multiindex columns\n",
    "        df['Team'] = team\n",
    "        team_df_list.append(df)\n",
    "\n",
    "team_data = pd.concat(team_df_list)"
   ]
  },
  {
   "cell_type": "code",
   "execution_count": null,
   "id": "c159b9b4",
   "metadata": {
    "id": "9d70cbe8"
   },
   "outputs": [],
   "source": [
    "team_data = team_data[team_data['Rk'] != 'Rk']\n",
    "team_data = team_data[~team_data['Rk'].isna()]"
   ]
  },
  {
   "cell_type": "code",
   "execution_count": null,
   "id": "dd3ab9b5",
   "metadata": {
    "id": "e678e083"
   },
   "outputs": [],
   "source": [
    "# Update column naming conventions\n",
    "new_cols = []\n",
    "\n",
    "for i in range(len(list(team_data))):\n",
    "    if i > 24:\n",
    "        new_cols.append(list(team_data)[i] + '.1')\n",
    "    else:\n",
    "        new_cols.append(list(team_data)[i])\n",
    "\n",
    "team_data.columns = new_cols"
   ]
  },
  {
   "cell_type": "markdown",
   "id": "43eaacbe",
   "metadata": {
    "id": "ecb0b209"
   },
   "source": [
    "## Data Extract 3: Extracting Opposing Team Data"
   ]
  },
  {
   "cell_type": "code",
   "execution_count": null,
   "id": "5c2cf280",
   "metadata": {
    "id": "d2924944"
   },
   "outputs": [],
   "source": [
    "opp_url = f'https://www.basketball-reference.com/teams/{opposing_team}/2024/gamelog/'\n",
    "\n",
    "data = requests.get(opp_url) #retrieve data from basketball reference\n",
    "page = data.text #extract html\n",
    "\n",
    "soup = BeautifulSoup(page, 'html.parser') # parse html\n",
    "opp_tgl_basic_table = soup.find(id=\"tgl_basic\") #locate the tgl_basic table\n",
    "opp_team = pd.read_html(str(opp_tgl_basic_table))[0] #read it in to pandas\n",
    "\n",
    "opp_team.columns = opp_team.columns.droplevel(0) # Clean the multiindex columns\n",
    "opp_team['Team'] = opposing_team\n",
    "\n",
    "opp_team = opp_team[opp_team['Rk'] != 'Rk']\n",
    "opp_team = opp_team[~opp_team['Rk'].isna()]"
   ]
  },
  {
   "cell_type": "code",
   "execution_count": null,
   "id": "84f128ad",
   "metadata": {
    "id": "b53a74c2"
   },
   "outputs": [],
   "source": [
    "# Update column naming conventions\n",
    "new_cols = []\n",
    "\n",
    "for i in range(len(list(opp_team))):\n",
    "    if i > 24:\n",
    "        new_cols.append(list(opp_team)[i] + '.1')\n",
    "    else:\n",
    "        new_cols.append(list(opp_team)[i])\n",
    "\n",
    "opp_team.columns = new_cols"
   ]
  },
  {
   "cell_type": "markdown",
   "id": "20e258b4",
   "metadata": {
    "id": "22575a25"
   },
   "source": [
    "## Player's Team Game Log"
   ]
  },
  {
   "cell_type": "code",
   "execution_count": null,
   "id": "26a2333e",
   "metadata": {
    "id": "5a617caa"
   },
   "outputs": [],
   "source": [
    "# Cleaning Team Game Log Data\n",
    "team_data = team_data.rename(columns = {'Unnamed: 3_level_1':'Home/Away'})\n",
    "team_data.loc[team_data['Home/Away'] == '@', 'Home/Away'] = 'Away'\n",
    "team_data.loc[team_data['Home/Away'].isna(), 'Home/Away'] = 'Home'\n",
    "\n",
    "# Converting to proper data types\n",
    "team_data['Date'] = pd.to_datetime(team_data['Date'])\n",
    "\n",
    "# Creating column for Defensive Rebounds\n",
    "team_data['TRB'] = team_data['TRB'].astype('int')\n",
    "team_data['ORB'] = team_data['ORB'].astype('int')\n",
    "team_data['DRB'] = team_data['TRB'] - team_data['ORB']\n",
    "\n",
    "team_data['TRB.1'] = team_data['TRB.1'].astype('int')\n",
    "team_data['ORB.1'] = team_data['ORB.1'].astype('int')\n",
    "team_data['DRB.1'] = team_data['TRB.1'] - team_data['ORB.1']\n",
    "\n",
    "# Removing erroneous columns\n",
    "team_log_df = team_data.drop(columns = ['Rk', 'G', 'Unnamed: 24_level_1'])"
   ]
  },
  {
   "cell_type": "code",
   "execution_count": null,
   "id": "f4290ce2",
   "metadata": {
    "id": "3a0aeabb"
   },
   "outputs": [],
   "source": [
    "# Trimming Data to key columns\n",
    "tldf2 = team_log_df[['Date', 'Team.1', 'FG', 'FGA', 'FTA', 'ORB', 'DRB', 'TOV', 'FG.1', 'FGA.1', 'FTA.1', 'ORB.1', 'DRB.1', 'TOV.1']]\n",
    "\n",
    "# Convert everything possible into numbers to avoid computational string errors\n",
    "tldf2.iloc[:, 2:] = tldf2.iloc[:, 2:].apply(pd.to_numeric, errors='ignore')"
   ]
  },
  {
   "cell_type": "code",
   "execution_count": null,
   "id": "bc42862b",
   "metadata": {
    "id": "1a1fa711"
   },
   "outputs": [],
   "source": [
    "# Formula based on Basketball reference's calculation of possessions [https://www.basketball-reference.com/about/glossary.html#poss]\n",
    "tldf2['Poss'] = 0.5 * ((tldf2['FGA'] + 0.4 * tldf2['FTA'] - 1.07 * (tldf2['ORB'] / (tldf2['ORB'] + tldf2['DRB'])) * (tldf2['FGA'] - tldf2['FG']) + tldf2['TOV']) +\n",
    "                        (tldf2['FGA.1'] + 0.4 * tldf2['FTA.1']  - 1.07 * (tldf2['ORB.1'] / (tldf2['ORB.1'] + tldf2['DRB.1'])) * (tldf2['FGA.1'] - tldf2['FG.1']) + tldf2['TOV.1']))"
   ]
  },
  {
   "cell_type": "markdown",
   "id": "7d5d1193",
   "metadata": {
    "id": "97190283"
   },
   "source": [
    "## Opponsing Team's Game Log"
   ]
  },
  {
   "cell_type": "code",
   "execution_count": null,
   "id": "54d40494",
   "metadata": {
    "id": "f438d64a"
   },
   "outputs": [],
   "source": [
    "# Converting into number to avoid any string parsing issues\n",
    "opp_team['TRB'] = opp_team['TRB'].astype('float')\n",
    "opp_team['ORB'] = opp_team['ORB'].astype('float')\n",
    "opp_team['TRB.1'] = opp_team['TRB.1'].astype('float')\n",
    "opp_team['ORB.1'] = opp_team['ORB.1'].astype('float')\n",
    "\n",
    "# Cleaning Team Game Log Data\n",
    "opp_team = opp_team.rename(columns = {'Unnamed: 3_level_1':'Home/Away'})\n",
    "opp_team.loc[opp_team['Home/Away'] == '@', 'Home/Away'] = 'Away'\n",
    "opp_team.loc[opp_team['Home/Away'].isna(), 'Home/Away'] = 'Home'\n",
    "\n",
    "# Converting to proper data types\n",
    "opp_team['Date'] = pd.to_datetime(opp_team['Date'])\n",
    "\n",
    "# Creating column for Defensive Rebounds\n",
    "opp_team['DRB'] = opp_team['TRB'] - opp_team['ORB']\n",
    "opp_team['DRB.1'] = opp_team['TRB.1'] - opp_team['ORB.1']\n",
    "\n",
    "# Removing erroneous columns\n",
    "opp_team_log_df = opp_team.drop(columns = ['Rk', 'G', 'Unnamed: 24_level_1'])"
   ]
  },
  {
   "cell_type": "code",
   "execution_count": null,
   "id": "c92ed31f",
   "metadata": {
    "id": "2018b7cb"
   },
   "outputs": [],
   "source": [
    "# Trimming Data to key columns\n",
    "otl_df2 = opp_team_log_df[['Date', 'Home/Away', 'FG', 'FGA', 'FTA', 'ORB', 'DRB', 'TOV', 'FG.1', 'FGA.1', 'FTA.1', 'ORB.1', 'DRB.1', 'TOV.1']]\n",
    "\n",
    "# Convert everything possible into numbers to avoid computational string errors\n",
    "otl_df2.iloc[:, 2:] = otl_df2.iloc[:, 2:].apply(pd.to_numeric, errors='ignore')"
   ]
  },
  {
   "cell_type": "code",
   "execution_count": null,
   "id": "5042b4e3",
   "metadata": {
    "id": "e6d22251"
   },
   "outputs": [],
   "source": [
    "# Formula based on Basketball reference's calculation of possessions [https://www.basketball-reference.com/about/glossary.html#poss]\n",
    "otl_df2['Poss'] = 0.5 * ((otl_df2['FGA'] + 0.4 * otl_df2['FTA'] - 1.07 * (otl_df2['ORB'] / (otl_df2['ORB'] + otl_df2['DRB'])) * (otl_df2['FGA'] - otl_df2['FG']) + otl_df2['TOV']) +\n",
    "                        (otl_df2['FGA.1'] + 0.4 * otl_df2['FTA.1']  - 1.07 * (otl_df2['ORB.1'] / (otl_df2['ORB.1'] + otl_df2['DRB.1'])) * (otl_df2['FGA.1'] - otl_df2['FG.1']) + otl_df2['TOV.1']))"
   ]
  },
  {
   "cell_type": "markdown",
   "id": "dcd35566",
   "metadata": {
    "id": "2a43d8b3"
   },
   "source": [
    "## Player Game Log"
   ]
  },
  {
   "cell_type": "code",
   "execution_count": null,
   "id": "e49514a1",
   "metadata": {
    "id": "09d7fa36"
   },
   "outputs": [],
   "source": [
    "# Remove Inactive games, and extraneous column names imported from the concatenation of multiple DFs\n",
    "player_data = player_data[~player_data['MP'].isin(['Inactive', 'Did Not Play', 'MP', 'Did Not Dress', 'Not With Team', 'Player Suspended'])]\n",
    "\n",
    "# Cleaning Player Data\n",
    "player_data['MP'] = player_data['MP'].apply(ConvertStrToTime)\n",
    "player_data['MP'] = player_data['MP'].apply(time_to_sec)/60\n",
    "\n",
    "player_data = player_data.rename(columns = {'Unnamed: 5':'Home/Away', 'Unnamed: 7': 'Outcome'})\n",
    "player_data['Home/Away'][player_data['Home/Away'] == '@'] = 'Away'\n",
    "player_data['Home/Away'][player_data['Home/Away'].isna()] = 'Home'\n",
    "\n",
    "#Converting to proper data types\n",
    "player_data['Date'] = pd.to_datetime(player_data['Date'])\n",
    "\n",
    "# Removing erroneous columns\n",
    "player_df = player_data.drop(columns = ['Rk', 'G'])"
   ]
  },
  {
   "cell_type": "markdown",
   "id": "2fcf73a4",
   "metadata": {
    "id": "26eab7d7"
   },
   "source": [
    "## Master Data (Player Game Log + Player's Team Game Log)"
   ]
  },
  {
   "cell_type": "code",
   "execution_count": null,
   "id": "4f530d90",
   "metadata": {
    "id": "bcfd4d45"
   },
   "outputs": [],
   "source": [
    "# Joined Player Game Log and His Team's Game Log\n",
    "master_data = player_df.merge(tldf2, left_on=['Date', 'Tm'], right_on =['Date', 'Team.1'], how= 'left', suffixes = (\"\",\"_TL\"))\n",
    "\n",
    "# Convert everything possible into numbers to avoid computational string errors\n",
    "master_data.iloc[:, 7:] = master_data.iloc[:, 7:].apply(pd.to_numeric, errors='ignore')"
   ]
  },
  {
   "cell_type": "code",
   "execution_count": null,
   "id": "6f2b4ebf",
   "metadata": {},
   "outputs": [],
   "source": [
    "# Cause Bismack is stupid\n",
    "master_data = master_data[master_data['MP'] > 0]"
   ]
  },
  {
   "cell_type": "code",
   "execution_count": null,
   "id": "da606537",
   "metadata": {
    "id": "71e0bc91"
   },
   "outputs": [],
   "source": [
    "# Calculating Available Rebounds and Rebounding Rate\n",
    "master_data['Available Rebounds'] = (master_data['FGA_TL'] + master_data['FGA.1']) -  (master_data['FG_TL'] + master_data['FG.1'])\n",
    "master_data['Rebounding Rate'] = master_data['TRB']/master_data['Available Rebounds']"
   ]
  },
  {
   "cell_type": "code",
   "execution_count": null,
   "id": "8aabeaab",
   "metadata": {
    "id": "56f7e5fb"
   },
   "outputs": [],
   "source": [
    "# Calculating ORB% and DRB%\n",
    "master_data['ORB%'] = master_data['ORB']/(master_data['FGA_TL'] - master_data['FG_TL'])\n",
    "master_data['DRB%'] = master_data['DRB']/(master_data['FGA.1'] - master_data['FG.1'])"
   ]
  },
  {
   "cell_type": "code",
   "execution_count": null,
   "id": "85f36bf0",
   "metadata": {
    "id": "578f50f7"
   },
   "outputs": [],
   "source": [
    "# Calculating Total Rebounds Per Minute\n",
    "master_data['TRB'] = master_data['TRB'].astype('float')\n",
    "master_data['TRBPM'] = master_data['TRB']/master_data['MP']"
   ]
  },
  {
   "cell_type": "code",
   "execution_count": null,
   "id": "960763c6",
   "metadata": {
    "id": "8b9126a8"
   },
   "outputs": [],
   "source": [
    "# Get Date Rankings to slice through data easier\n",
    "master_data['Date_Rank'] =  master_data['Date'].rank()"
   ]
  },
  {
   "cell_type": "code",
   "execution_count": null,
   "id": "a8184e28",
   "metadata": {
    "id": "26cf114c"
   },
   "outputs": [],
   "source": [
    "# Dummy Encoding Home and Away games to factor into regression model\n",
    "master_data['Home'] = None\n",
    "master_data['Home'][master_data['Home/Away'] == 'Home'] = 1\n",
    "master_data['Home'][master_data['Home'].isna()] = 0\n",
    "\n",
    "master_data['Away'] = None\n",
    "master_data['Away'][master_data['Home/Away'] == 'Away'] = 1\n",
    "master_data['Away'][master_data['Away'].isna()] = 0"
   ]
  },
  {
   "cell_type": "markdown",
   "id": "eee5eb2a",
   "metadata": {
    "id": "1b9eeeaa"
   },
   "source": [
    "## Regression Model"
   ]
  },
  {
   "cell_type": "code",
   "execution_count": null,
   "id": "dc7fd101",
   "metadata": {
    "colab": {
     "base_uri": "https://localhost:8080/"
    },
    "executionInfo": {
     "elapsed": 223,
     "status": "ok",
     "timestamp": 1701206841534,
     "user": {
      "displayName": "Loubriel Ledesma",
      "userId": "13970715462343084880"
     },
     "user_tz": 300
    },
    "id": "c90b51ff",
    "outputId": "a8fe5cea-deb7-47be-d0ec-bf140307305e"
   },
   "outputs": [],
   "source": [
    "df = master_data[['TRB', 'MP', 'TRBPM', 'Rebounding Rate', 'ORB%', 'DRB%', 'Poss', 'Home', 'Away']]\n",
    "\n",
    "X = df.iloc[:, 1:]\n",
    "y = df.iloc[:, :1]\n",
    "\n",
    "# To visually compare model performance to actual data look at these variables\n",
    "X_train, X_test, y_train, y_test = train_test_split(X, y, test_size=0.2, random_state=32)\n",
    "\n",
    "model = LinearRegression()\n",
    "model.fit(X_train, y_train)\n",
    "\n",
    "y_pred = model.predict(X_test)\n",
    "mse = np.mean((y_pred - y_test) ** 2)\n",
    "# print(\"Mean Squared Error:\", mse)"
   ]
  },
  {
   "cell_type": "markdown",
   "id": "2ccda49f",
   "metadata": {
    "id": "84e61d83"
   },
   "source": [
    "#### Visualizing Model Performance"
   ]
  },
  {
   "cell_type": "code",
   "execution_count": null,
   "id": "24efb37f",
   "metadata": {
    "id": "de59e32a"
   },
   "outputs": [],
   "source": [
    "# X_test['Predicted Rebounds'] = y_pred\n",
    "# master_data.merge(X_test, on = ['MP', 'TRBPM', 'Rebounding Rate', 'ORB%', 'DRB%', 'Poss', 'Home', 'Away'])[['Date', 'Opp', 'TRB', 'Predicted Rebounds']]"
   ]
  },
  {
   "cell_type": "markdown",
   "id": "e89e7c1e",
   "metadata": {
    "id": "fdf48a0e"
   },
   "source": [
    "## Model Execution"
   ]
  },
  {
   "cell_type": "code",
   "execution_count": null,
   "id": "2ab3684e",
   "metadata": {
    "id": "a1cf21cd"
   },
   "outputs": [],
   "source": [
    "recent_data = master_data[master_data['Date_Rank'] >= master_data['Date_Rank'].max() - 6] # last 7 games\n",
    "historical_data = master_data[master_data['Date_Rank'] < master_data['Date_Rank'].max() - 6] # all other games before the last 7"
   ]
  },
  {
   "cell_type": "markdown",
   "id": "b08e234e",
   "metadata": {
    "id": "9ec124be"
   },
   "source": [
    "## Core Variable 1: Minutes Played (MP)"
   ]
  },
  {
   "cell_type": "code",
   "execution_count": null,
   "id": "8f988fc1",
   "metadata": {
    "id": "fc775b46"
   },
   "outputs": [],
   "source": [
    "simulations = 250_000"
   ]
  },
  {
   "cell_type": "code",
   "execution_count": null,
   "id": "6056b411",
   "metadata": {
    "id": "4d91f61d"
   },
   "outputs": [],
   "source": [
    "# Overall median and std_dev minutes played for all data\n",
    "median_mp = historical_data['MP'].median()\n",
    "sd_mp = master_data['MP'].std()\n",
    "overall_weight_mp = .3\n",
    "\n",
    "# mean of last n-number of games to factor in recent performance\n",
    "recent_mp = recent_data['MP'].mean()\n",
    "recent_weight_mp = .7\n",
    "\n",
    "# Calculate weighted average of overall performance and recent performance\n",
    "weighted_avg_mp = (median_mp * overall_weight_mp) + (recent_mp * recent_weight_mp)\n",
    "\n",
    "# Conducting Monte Carlo Simulations for Minutes Played\n",
    "proj_mp = norm.ppf(np.random.random(simulations), loc=weighted_avg_mp, scale=sd_mp)"
   ]
  },
  {
   "cell_type": "code",
   "execution_count": null,
   "id": "6f7b734f",
   "metadata": {
    "id": "95c76f38"
   },
   "outputs": [],
   "source": [
    "# Calculating Projected Minutes (Median MP from 250k Simulations)\n",
    "mp = pd.DataFrame(proj_mp).median()[0]"
   ]
  },
  {
   "cell_type": "markdown",
   "id": "bd42607e",
   "metadata": {
    "id": "77d9547c"
   },
   "source": [
    "## Core Variable 2: Total Rebounds Per Minute (TRBPM)"
   ]
  },
  {
   "cell_type": "code",
   "execution_count": null,
   "id": "f25fbfca",
   "metadata": {
    "id": "fda68ee9"
   },
   "outputs": [],
   "source": [
    "# Overall median and std_dev trbpm for all data\n",
    "median_trbpm = historical_data['TRBPM'].median()\n",
    "sd_trbpm = master_data['TRBPM'].std()\n",
    "overall_weight_trb = .7\n",
    "\n",
    "recent_trbpm = recent_data['TRB'].sum()/recent_data['MP'].sum()\n",
    "recent_weight_trb = .3\n",
    "\n",
    "weighted_avg_trbpm = (median_trbpm * overall_weight_trb) + (recent_trbpm * recent_weight_trb)\n",
    "\n",
    "proj_trbpm = norm.ppf(np.random.random(simulations), loc=weighted_avg_trbpm, scale=sd_trbpm)"
   ]
  },
  {
   "cell_type": "code",
   "execution_count": null,
   "id": "652b6d26",
   "metadata": {
    "id": "92afbde4"
   },
   "outputs": [],
   "source": [
    "# Calculating Projected TRBPM\n",
    "trbpm = pd.DataFrame(proj_trbpm).median()[0]"
   ]
  },
  {
   "cell_type": "markdown",
   "id": "791963c9",
   "metadata": {
    "id": "bf841648"
   },
   "source": [
    "## Core Variable 3: Rebounding Rate (RR)"
   ]
  },
  {
   "cell_type": "code",
   "execution_count": null,
   "id": "7c99d411",
   "metadata": {
    "id": "18b2a1b9"
   },
   "outputs": [],
   "source": [
    "# Overall median and std_dev trbpm for all data\n",
    "median_rr = historical_data['Rebounding Rate'].median()\n",
    "sd_rr = master_data['Rebounding Rate'].std()\n",
    "overall_weight_rr = .7\n",
    "\n",
    "recent_rr = recent_data['TRB'].sum()/recent_data['Available Rebounds'].sum()\n",
    "recent_weight_rr = .3\n",
    "\n",
    "weighted_avg_rr = (median_rr * overall_weight_rr) + (recent_rr * recent_weight_rr)\n",
    "\n",
    "proj_rr = norm.ppf(np.random.random(simulations), loc=weighted_avg_rr, scale=sd_rr)"
   ]
  },
  {
   "cell_type": "code",
   "execution_count": null,
   "id": "264a84e8",
   "metadata": {
    "id": "5e6bf190"
   },
   "outputs": [],
   "source": [
    "# Calculating Projected Rebounding Rate\n",
    "rr = pd.DataFrame(proj_rr).median()[0]"
   ]
  },
  {
   "cell_type": "markdown",
   "id": "805da669",
   "metadata": {
    "id": "c28c4773"
   },
   "source": [
    "## Core Variable 4: Offensive Rebounding Percentage (ORB%)"
   ]
  },
  {
   "cell_type": "code",
   "execution_count": null,
   "id": "64f3c1f0",
   "metadata": {
    "id": "2a257856"
   },
   "outputs": [],
   "source": [
    "# Overall median and std_dev trbpm for all data\n",
    "median_orbp = historical_data['ORB%'].median()\n",
    "sd_orbp = master_data['ORB%'].std()\n",
    "overall_weight_orbp = .7\n",
    "\n",
    "recent_orbp = recent_data['ORB'].sum()/(recent_data['FGA_TL'].sum() - recent_data['FG_TL'].sum())\n",
    "recent_weight_orbp = .3\n",
    "\n",
    "weighted_avg_orbp = (median_orbp * overall_weight_orbp) + (recent_orbp * recent_weight_orbp)\n",
    "\n",
    "proj_orbp = norm.ppf(np.random.random(simulations), loc=weighted_avg_orbp, scale=sd_orbp)"
   ]
  },
  {
   "cell_type": "code",
   "execution_count": null,
   "id": "b74e650c",
   "metadata": {
    "id": "1f43dd5a"
   },
   "outputs": [],
   "source": [
    "# Calculating Projected ORB Percentage\n",
    "orbp = pd.DataFrame(proj_orbp).median()[0]"
   ]
  },
  {
   "cell_type": "markdown",
   "id": "0ca3d24a",
   "metadata": {
    "id": "bf94afe7"
   },
   "source": [
    "## Core Variable 5: Defensive Rebounding Percentage (DRB%)"
   ]
  },
  {
   "cell_type": "code",
   "execution_count": null,
   "id": "e85868e5",
   "metadata": {
    "id": "81aff504"
   },
   "outputs": [],
   "source": [
    "# Overall median and std_dev trbpm for all data\n",
    "median_drbp = historical_data['DRB%'].median()\n",
    "sd_drbp = master_data['DRB%'].std()\n",
    "overall_weight_drbp = .7\n",
    "\n",
    "recent_drbp = recent_data['ORB'].sum()/(recent_data['FGA_TL'].sum() - recent_data['FG_TL'].sum())\n",
    "recent_weight_drbp = .3\n",
    "\n",
    "weighted_avg_drbp = (median_drbp * overall_weight_drbp) + (recent_drbp * recent_weight_drbp)\n",
    "\n",
    "proj_drbp = norm.ppf(np.random.random(simulations), loc=weighted_avg_drbp, scale=sd_drbp)"
   ]
  },
  {
   "cell_type": "code",
   "execution_count": null,
   "id": "5b47e6db",
   "metadata": {
    "id": "809d44fc"
   },
   "outputs": [],
   "source": [
    "# Calculating Projected ORB Percentage\n",
    "drbp = pd.DataFrame(proj_drbp).median()[0]"
   ]
  },
  {
   "cell_type": "markdown",
   "id": "22ee71fb",
   "metadata": {
    "id": "9ed1358e"
   },
   "source": [
    "## Core Variable 6: Possessions/Pace"
   ]
  },
  {
   "cell_type": "code",
   "execution_count": null,
   "id": "d5ed7132",
   "metadata": {
    "id": "e8aedd32"
   },
   "outputs": [],
   "source": [
    "avg_team_poss = master_data['Poss'][master_data['Home/Away'] == 'Away'].mean()\n",
    "avg_opp_team_poss = otl_df2['Poss'][otl_df2['Home/Away'] == 'Home'].mean()\n",
    "agg_sd_poss = pd.DataFrame(list(master_data['Poss'][master_data['Home/Away'] == 'Away']) + list(otl_df2['Poss'][otl_df2['Home/Away'] == 'Home'])).std()[0]\n",
    "\n",
    "# Average Both Teams posessions to get an expected\n",
    "expected_matchup_poss = (avg_team_poss + avg_opp_team_poss)/2\n",
    "\n",
    "proj_poss = norm.ppf(np.random.random(simulations), loc=expected_matchup_poss, scale=agg_sd_poss)"
   ]
  },
  {
   "cell_type": "code",
   "execution_count": null,
   "id": "722ae8c7",
   "metadata": {
    "id": "587dd8e6"
   },
   "outputs": [],
   "source": [
    "poss = pd.DataFrame(proj_poss).median()[0]"
   ]
  },
  {
   "cell_type": "markdown",
   "id": "b8e7c2f2",
   "metadata": {
    "id": "24e9d715"
   },
   "source": [
    "## Core Variable 7: Home/Away Game\n",
    "- Established above as it is entered manually by user."
   ]
  },
  {
   "cell_type": "markdown",
   "id": "9b55c92a",
   "metadata": {
    "id": "6cd80da2"
   },
   "source": [
    "## Using the regression set up to calculate predicted rebounds for all Monte Carlo simulations"
   ]
  },
  {
   "cell_type": "code",
   "execution_count": null,
   "id": "e29b353a",
   "metadata": {
    "id": "02039333"
   },
   "outputs": [],
   "source": [
    "c1 = pd.DataFrame(proj_mp, columns = ['Sim_MP'])\n",
    "c2 = pd.DataFrame(proj_trbpm, columns = ['Sim_TRBPM'])\n",
    "c3 = pd.DataFrame(proj_rr, columns = ['Sim_RR'])\n",
    "c4 = pd.DataFrame(proj_orbp, columns = ['Sim_ORBP'])\n",
    "c5 = pd.DataFrame(proj_drbp, columns = ['Sim_DRBP'])\n",
    "c6 = pd.DataFrame(proj_poss, columns = ['Sim_Poss'])\n",
    "\n",
    "# Get the simulations dataset ready for input to the regression predictions\n",
    "mc_simulations = pd.concat([c1, c2, c3, c4, c5, c6], axis = 1)\n",
    "mc_simulations['Home'] = home\n",
    "mc_simulations['Away'] = away\n",
    "\n",
    "# This section was updated to address @Sammy Mac OS error\n",
    "# Error: System was unable to map the column names in the simulation dataset to the original column names provided from training data\n",
    "# Did not seem to be a problem in local PC (Personal and Work)\n",
    "og_col_names = list(mc_simulations.columns)\n",
    "mc_simulations.columns = list(df)[1:]\n",
    "\n",
    "# Make Predictions\n",
    "mc_simulations['Predicted Rebounds'] = model.predict(mc_simulations)\n",
    "\n",
    "mc_simulations.columns = og_col_names + ['Predicted Rebounds'] # Rename columns back to \"Sim_\" to avoid any additional errors later in script."
   ]
  },
  {
   "cell_type": "markdown",
   "id": "565e34f7",
   "metadata": {
    "id": "f06c4f50"
   },
   "source": [
    "## Player Details"
   ]
  },
  {
   "cell_type": "code",
   "execution_count": null,
   "id": "23edb5e9",
   "metadata": {
    "colab": {
     "base_uri": "https://localhost:8080/",
     "height": 80
    },
    "executionInfo": {
     "elapsed": 378,
     "status": "ok",
     "timestamp": 1701207362124,
     "user": {
      "displayName": "Loubriel Ledesma",
      "userId": "13970715462343084880"
     },
     "user_tz": 300
    },
    "id": "a496f3de",
    "outputId": "2e143c16-c692-4e15-dae6-c55f87e916d7"
   },
   "outputs": [],
   "source": [
    "mp = mc_simulations['Sim_MP'].median()\n",
    "trbpm = mc_simulations['Sim_TRBPM'].median()\n",
    "rr = mc_simulations['Sim_RR'].median()\n",
    "orbp = mc_simulations['Sim_ORBP'].median()\n",
    "drbp = mc_simulations['Sim_DRBP'].median()\n",
    "poss = mc_simulations['Sim_Poss'].median()\n",
    "median_predicted_reb = mc_simulations['Predicted Rebounds'].median()\n",
    "over_probability = len(mc_simulations[mc_simulations['Predicted Rebounds'] > player_prop])/len(mc_simulations)\n",
    "under_probability = len(mc_simulations[mc_simulations['Predicted Rebounds'] < player_prop])/len(mc_simulations)"
   ]
  },
  {
   "cell_type": "markdown",
   "id": "fdc0ba7c",
   "metadata": {},
   "source": [
    "### Integration of Analysis Process (From Master Dataset)"
   ]
  },
  {
   "cell_type": "code",
   "execution_count": null,
   "id": "a57735e4",
   "metadata": {},
   "outputs": [],
   "source": [
    "master_data['Player'] = player_name\n",
    "last_15 = master_data[master_data['Date_Rank'] >= master_data['Date_Rank'].max() - 14]\n",
    "\n",
    "# Prepping data to calculate the Exceed Rate\n",
    "last_15['Exceed'] = 0\n",
    "last_15['Exceed'][last_15['TRB'] > player_prop] = 1\n",
    "\n",
    "# Getting the Output Simulated MP from Montecarlo and comparing vs his last 15 games\n",
    "# Prepping Data for Minutes Test\n",
    "median_sim_mp = mp\n",
    "last_15['Abs_Diff'] = abs(last_15['MP'] - median_sim_mp)\n",
    "\n",
    "# Minutes Test Standardization\n",
    "last_15['Within_3'] = 0\n",
    "last_15['Within_3'][last_15['Abs_Diff'] <= 3] = 1\n",
    "\n",
    "# Validation/Analysis Columns\n",
    "exceed_rate = last_15['Exceed'].mean()\n",
    "minutes_test = last_15['Within_3'].mean()"
   ]
  },
  {
   "cell_type": "code",
   "execution_count": null,
   "id": "3eaa8d84",
   "metadata": {},
   "outputs": [],
   "source": [
    "row_data = [player_position, player_name, mp, trbpm, poss, player_prop, median_predicted_reb, rr, orbp, drbp, over_probability, under_probability, fd_odds, minutes_test, exceed_rate]\n",
    "row_df = pd.DataFrame(row_data).T\n",
    "row_df.columns = ['Role', 'Player', 'MP', 'TRBPM', 'Possessions', 'Player Prop', 'Predicted Rebs', 'RR', 'ORBP%', 'DRBP%', 'O%', 'U%', 'FanDuel Favorite', 'Minutes Test', 'Exceed Rate']\n",
    "row_df"
   ]
  },
  {
   "cell_type": "markdown",
   "id": "5d483603",
   "metadata": {},
   "source": [
    "### If looking to generate details file, uncomment code below"
   ]
  },
  {
   "cell_type": "code",
   "execution_count": null,
   "id": "21c9901b",
   "metadata": {
    "id": "fc6eee4c"
   },
   "outputs": [],
   "source": [
    "row_df = row_df[['Role', 'Player', 'MP', 'TRBPM', 'Player Prop', 'Predicted Rebs', 'O%', 'U%', 'FanDuel Favorite', 'Minutes Test', 'Exceed Rate']]\n",
    "\n",
    "# detail_dir = r\"C:\\Users\\loudr\\Desktop\\NBA Sports Betting Models\\Python Exports\\Detail Outputs\" # Update here @Sammy\n",
    "# os.chdir(detail_dir)\n",
    "# row_df_export.to_excel(f'{player_name} Details.xlsx', index = False)\n",
    "# print(f'File Saved to {detail_dir}!')"
   ]
  },
  {
   "cell_type": "markdown",
   "id": "3ce2717a",
   "metadata": {
    "id": "e916d596"
   },
   "source": [
    "## Player Prop Map (Spread)"
   ]
  },
  {
   "cell_type": "code",
   "execution_count": null,
   "id": "9c316d36",
   "metadata": {
    "id": "3e0170ba"
   },
   "outputs": [],
   "source": [
    "# Creating the Probability/Prop Map\n",
    "val_list = []\n",
    "probabilities = []\n",
    "\n",
    "for val in list(np.arange(1, 20.5,  .5)):\n",
    "    val_list.append(val)\n",
    "    probabilities.append(len(mc_simulations[mc_simulations['Predicted Rebounds'] > val])/len(mc_simulations))"
   ]
  },
  {
   "cell_type": "code",
   "execution_count": null,
   "id": "e080b861",
   "metadata": {
    "id": "15824b0f"
   },
   "outputs": [],
   "source": [
    "data = {'Prop Value': val_list, 'Over %':probabilities}\n",
    "\n",
    "prop_spread_df = pd.DataFrame(data)\n",
    "prop_spread_df['Prop Value'] = round(prop_spread_df['Prop Value'],2)"
   ]
  },
  {
   "cell_type": "code",
   "execution_count": null,
   "id": "9b8a977c",
   "metadata": {
    "id": "89960392"
   },
   "outputs": [],
   "source": [
    "#transpose data\n",
    "prop_spread_df_transposed = prop_spread_df.T\n",
    "\n",
    "# Make the props the header\n",
    "headers = prop_spread_df_transposed.iloc[0]\n",
    "prop_map_df  = pd.DataFrame(prop_spread_df_transposed.values[1:], columns=headers)"
   ]
  },
  {
   "cell_type": "code",
   "execution_count": null,
   "id": "0976dcc0",
   "metadata": {
    "id": "7d0e36d0"
   },
   "outputs": [],
   "source": [
    "# Bring in player name\n",
    "prop_map_df['Player'] = player_name\n",
    "\n",
    "#rearrange columns to show player name first\n",
    "cols = list(prop_map_df.columns)\n",
    "cols = [cols[-1]] + cols[:-1]\n",
    "prop_map_df = prop_map_df[cols]"
   ]
  },
  {
   "cell_type": "markdown",
   "id": "5170276a",
   "metadata": {},
   "source": [
    "### If looking to generate prop map, uncomment code below"
   ]
  },
  {
   "cell_type": "code",
   "execution_count": null,
   "id": "53ca7269",
   "metadata": {
    "id": "62f73455",
    "outputId": "b7fc7a36-13e8-4138-e6ab-da36813295b3"
   },
   "outputs": [],
   "source": [
    "# prop_dir = r\"C:\\Users\\loudr\\Desktop\\NBA Sports Betting Models\\Python Exports\\Prop Outputs\" # Update here @Sammy\n",
    "# os.chdir(prop_dir)\n",
    "# prop_map_df.to_excel(f'{player_name} Prop.xlsx', index = False)\n",
    "# print(f'File saved to {prop_dir}!')"
   ]
  },
  {
   "cell_type": "code",
   "execution_count": null,
   "id": "483881dd",
   "metadata": {
    "id": "13d6b148"
   },
   "outputs": [],
   "source": [
    "# os.chdir(fwd)"
   ]
  },
  {
   "cell_type": "markdown",
   "id": "8958d070",
   "metadata": {},
   "source": [
    "### List of DataFrames being Exported in (2) - Execution_Script_BulkUpload..."
   ]
  },
  {
   "cell_type": "code",
   "execution_count": null,
   "id": "5af77e34",
   "metadata": {},
   "outputs": [],
   "source": [
    "# row_df\n",
    "# prop_map_df\n",
    "# master_data\n",
    "\n",
    "# List broken into 5 rows for readibility\n",
    "# Line 1 = logistical details (date, age, team, etc...)\n",
    "# line 2 = player specific stat lines\n",
    "# line 3 = team log stats\n",
    "# line 4 = opposing team stats\n",
    "# line 5 = calculated metrics derived from lines 2 - 4\n",
    "new_col_names = {'Date':'date', 'Age':'age', 'Tm':'tm', 'Home/Away':'home_away', 'Opp':'opponent', 'Outcome':'outcome', 'GS':'gs',\n",
    "'MP':'mp', 'FG':'fg', 'FGA':'fga', 'FG%':'fg_perc', '3P':'3p', '3PA':'3pa', '3P%':'3p_perc', 'FT':'ft', 'FTA':'fta', 'FT%':'ft_perc', 'ORB':'orb', 'DRB':'drb', 'TRB':'trb', 'AST':'ast', 'STL':'stl', 'BLK':'blk', 'TOV':'tov', 'PF':'pf', 'PTS':'pts', 'GmSc':'gmsc', '+/-':'plus_minus',\n",
    "'Team.1':'team_tl', 'FG_TL':'fg_tl', 'FGA_TL':'fga_tl', 'FTA_TL':'fta_tl', 'ORB_TL':'orb_tl', 'DRB_TL':'drb_tl', 'TOV_TL':'tov_tl', \n",
    "'FG.1':'fg_opponent', 'FGA.1':'fga_opponent', 'FTA.1':'fta_opponent', 'ORB.1':'orb_opponent', 'DRB.1':'drb_opponent', 'TOV.1':'tov_opponent',\n",
    "'Poss':'possessions', 'Available Rebounds':'avail_rebounds', 'Rebounding Rate':'rebound_rate', 'ORB%':'orb_perc', 'DRB%':'drb_perc', 'TRBPM':'total_rebs_per_min', 'Date_Rank':'date_rank', 'Home':'home_flag', 'Away':'away_flag', 'Player':'player_name'}\n",
    "\n",
    "master_data_df = master_data.rename(columns = new_col_names)"
   ]
  },
  {
   "cell_type": "code",
   "execution_count": null,
   "id": "c97073b7",
   "metadata": {},
   "outputs": [],
   "source": []
  }
 ],
 "metadata": {
  "colab": {
   "provenance": []
  },
  "kernelspec": {
   "display_name": "Python 3",
   "language": "python",
   "name": "python3"
  },
  "language_info": {
   "codemirror_mode": {
    "name": "ipython",
    "version": 3
   },
   "file_extension": ".py",
   "mimetype": "text/x-python",
   "name": "python",
   "nbconvert_exporter": "python",
   "pygments_lexer": "ipython3",
   "version": "3.7.6"
  }
 },
 "nbformat": 4,
 "nbformat_minor": 5
}
