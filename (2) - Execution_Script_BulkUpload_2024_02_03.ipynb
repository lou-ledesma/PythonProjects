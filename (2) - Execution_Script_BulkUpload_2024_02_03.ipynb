{
 "cells": [
  {
   "cell_type": "code",
   "execution_count": 1,
   "id": "c9a4c76a",
   "metadata": {},
   "outputs": [],
   "source": [
    "import time\n",
    "import pandas as pd\n",
    "import numpy as np\n",
    "import os\n",
    "from datetime import date\n",
    "import random"
   ]
  },
  {
   "cell_type": "code",
   "execution_count": 2,
   "id": "0098ca62",
   "metadata": {},
   "outputs": [],
   "source": [
    "# Read in data frame\n",
    "df_log = pd.read_excel('REFERENCE TABLE - Player URL Mapping 2023-2024 Season.xlsx', sheet_name = 'Player Log')"
   ]
  },
  {
   "cell_type": "code",
   "execution_count": 3,
   "id": "ae6ddaeb",
   "metadata": {},
   "outputs": [
    {
     "name": "stdout",
     "output_type": "stream",
     "text": [
      "Running Pascal Siakam...(1)\n",
      "Pascal Siakam Processed.\n",
      "Running Tyrese Haliburton...(2)\n",
      "Tyrese Haliburton Processed.\n",
      "Running Myles Turner...(3)\n",
      "Myles Turner Processed.\n",
      "Running Aaron Nesmith...(4)\n",
      "Aaron Nesmith Processed.\n",
      "Running Andrew Nembhard...(5)\n",
      "Andrew Nembhard Processed.\n",
      "Running Donte Divincenzo...(6)\n",
      "Donte Divincenzo Processed.\n",
      "Running Isaiah Hartenstein...(7)\n",
      "Isaiah Hartenstein Processed.\n",
      "Running Josh Hart...(8)\n",
      "Josh Hart Processed.\n",
      "Running Obi Toppin...(9)\n",
      "Obi Toppin Processed.\n",
      "Running Tj Mcconnell...(10)\n",
      "Tj Mcconnell Processed.\n",
      "Running Miles Mcbride...(11)\n",
      "Miles Mcbride Processed.\n",
      "Running Nikola Jokic...(12)\n",
      "Nikola Jokic Processed.\n",
      "Running Anthony Edwards...(13)\n",
      "Anthony Edwards Processed.\n",
      "Running Karl-Anthony Towns...(14)\n",
      "Karl-Anthony Towns Processed.\n",
      "Running Rudy Gobert...(15)\n",
      "Rudy Gobert Processed.\n",
      "Running Mike Conley...(16)\n",
      "Mike Conley Processed.\n",
      "Running Jaden Mcdaniels...(17)\n",
      "Jaden Mcdaniels Processed.\n",
      "Running Aaron Gordon...(18)\n",
      "Aaron Gordon Processed.\n",
      "Running Michael Porter...(19)\n",
      "Michael Porter Processed.\n",
      "Running Naz Reid...(20)\n",
      "Naz Reid Processed.\n",
      "Running Luka Doncic...(21)\n",
      "Luka Doncic Processed.\n",
      "Running Kyrie Irving...(22)\n",
      "Kyrie Irving Processed.\n",
      "Running Pj Washington...(23)\n",
      "Pj Washington Processed.\n",
      "Running Daniel Gafford...(24)\n",
      "Daniel Gafford Processed.\n",
      "Running Derrick Jones...(25)\n",
      "Derrick Jones Processed.\n",
      "Running Chet Holmgren...(26)\n",
      "Chet Holmgren Processed.\n",
      "Running Jalen Williams...(27)\n",
      "Jalen Williams Processed.\n",
      "Running Luguentz Dort...(28)\n",
      "Luguentz Dort Processed.\n",
      "Running Shai Gilgeous-Alexander...(29)\n",
      "Shai Gilgeous-Alexander Processed.\n",
      "Running Jayson Tatum...(30)\n",
      "Jayson Tatum Processed.\n",
      "Running Jaylen Brown...(31)\n",
      "Jaylen Brown Processed.\n",
      "Running Donovan Mitchell...(32)\n",
      "Donovan Mitchell Processed.\n",
      "Running Darius Garland...(33)\n",
      "Darius Garland Processed.\n",
      "Running Evan Mobley...(34)\n",
      "Evan Mobley Processed.\n",
      "Running Max Strus...(35)\n",
      "Max Strus Processed.\n",
      "Running Al Horford...(36)\n",
      "Al Horford Processed.\n",
      "Running Derrick White...(37)\n",
      "Derrick White Processed.\n",
      "Running Jrue Holiday...(38)\n",
      "Jrue Holiday Processed.\n",
      "All Players Processed!\n"
     ]
    }
   ],
   "source": [
    "# instanciate each list\n",
    "player_list = list(df_log['player_name'])\n",
    "opp_team_list = list(df_log['opposing_team'])\n",
    "prop_list = list(df_log['player_prop'])\n",
    "odds_list = list(df_log['fd_odds'])\n",
    "home_list = list(df_log['home'])\n",
    "\n",
    "# Load dataframes into empty lists\n",
    "row_dfs = []\n",
    "prop_map_dfs = []\n",
    "master_data_dfs = []\n",
    "\n",
    "for i in range(len(df_log)):\n",
    "    player_name = player_list[i]\n",
    "    print(f\"Running {player_name}...({i+1})\")\n",
    "    opposing_team = opp_team_list[i]\n",
    "    player_prop = prop_list[i]\n",
    "    fd_odds = odds_list[i]\n",
    "    home = home_list[i]\n",
    "    time_interval = random.randint(12, 35)\n",
    "    time.sleep(time_interval)\n",
    "    try:    \n",
    "        %run \"(1) - Main_NBABettingModel 2024_02_03.ipynb\"\n",
    "        row_dfs.append(row_df)\n",
    "        prop_map_dfs.append(prop_map_df)\n",
    "        master_data_dfs.append(master_data_df)\n",
    "    except IndexError:\n",
    "        continue\n",
    "    print(f\"{player_name} Processed.\")\n",
    "\n",
    "print(\"All Players Processed!\")"
   ]
  },
  {
   "cell_type": "code",
   "execution_count": 4,
   "id": "c1a4fc98",
   "metadata": {},
   "outputs": [],
   "source": [
    "# Combine dataframes\n",
    "player_details = pd.concat(row_dfs)\n",
    "player_details = player_details.drop_duplicates()\n",
    "\n",
    "prop_maps = pd.concat(prop_map_dfs)\n",
    "prop_maps = prop_maps.drop_duplicates()\n",
    "\n",
    "player_gamelogs = pd.concat(master_data_dfs)\n",
    "player_gamelogs = player_gamelogs.drop_duplicates()"
   ]
  },
  {
   "cell_type": "code",
   "execution_count": 5,
   "id": "96f478e4",
   "metadata": {},
   "outputs": [
    {
     "name": "stdout",
     "output_type": "stream",
     "text": [
      "C:\\Users\\loudr\\Desktop\\NBA Sports Betting Model\n"
     ]
    }
   ],
   "source": [
    "# Dynamically Update to todays date\n",
    "today = date.today()\n",
    "todays_date = str(today).replace(\"-\", \"_\")\n",
    "\n",
    "# function\n",
    "def DF_Tabs(df_list, sheet_list, file_name):\n",
    "    writer = pd.ExcelWriter(file_name,engine='xlsxwriter')   \n",
    "    for dataframe, sheet in zip(df_list, sheet_list):\n",
    "        dataframe.to_excel(writer, sheet_name=sheet, startrow=0 , startcol=0, index = False)   \n",
    "    writer.save()\n",
    "    \n",
    "dfs = [player_details, prop_maps, player_gamelogs]    \n",
    "tabs = ['Details', 'Prop Spreads', 'Player Gamelogs']    \n",
    "file_name = f'TEMPLATE - Prop_and_Details_{todays_date}.xlsx'\n",
    "\n",
    "# Run Function (Export File)\n",
    "DF_Tabs(dfs, tabs, file_name)\n",
    "\n",
    "# Print Directory file is saved to\n",
    "print(os.getcwd())"
   ]
  },
  {
   "cell_type": "code",
   "execution_count": null,
   "id": "e4959607",
   "metadata": {},
   "outputs": [],
   "source": []
  }
 ],
 "metadata": {
  "kernelspec": {
   "display_name": "Python 3",
   "language": "python",
   "name": "python3"
  },
  "language_info": {
   "codemirror_mode": {
    "name": "ipython",
    "version": 3
   },
   "file_extension": ".py",
   "mimetype": "text/x-python",
   "name": "python",
   "nbconvert_exporter": "python",
   "pygments_lexer": "ipython3",
   "version": "3.7.6"
  }
 },
 "nbformat": 4,
 "nbformat_minor": 5
}
