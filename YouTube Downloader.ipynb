{
 "cells": [
  {
   "cell_type": "code",
   "execution_count": 1,
   "id": "accfe70e-b7a6-4525-8281-005db6f49998",
   "metadata": {},
   "outputs": [],
   "source": [
    "import pandas as pd\n",
    "from pytube import YouTube\n",
    "from sys import argv\n",
    "import os"
   ]
  },
  {
   "cell_type": "code",
   "execution_count": null,
   "id": "9a2f8e10-5afd-486b-95dc-2bc26d8996f5",
   "metadata": {},
   "outputs": [],
   "source": [
    "# Upload File Option\n",
    "df = pd.read_excel('Bulk Download.xlsx')\n",
    "links = df['Video Link'].tolist()"
   ]
  },
  {
   "cell_type": "markdown",
   "id": "31ddca93-5c98-4eed-83c0-ca6cf7b0fbdc",
   "metadata": {},
   "source": [
    "### YouTube Offline Video Downloader"
   ]
  },
  {
   "cell_type": "code",
   "execution_count": null,
   "id": "09abd823-9f25-46a9-9a05-c58cec53faff",
   "metadata": {},
   "outputs": [],
   "source": [
    "# Singular Download\n",
    "## links = ['https://www.youtube.com/watch?v=SYgyrZY98J8&ab_channel=REGGAETONLATIN']\n",
    "dl_loc = \"C:\\\\Users\\\\LouLedesma\\\\Downloads\\\\\"\n",
    "\n",
    "for link in links:\n",
    "    yt = YouTube(link)\n",
    "    \n",
    "    # Downloading High Resolution Video\n",
    "    print(f\"Downloading {yt.title}...\")\n",
    "    yt_download = yt.streams.get_highest_resolution()\n",
    "    yt_download.download(dl_loc) # Save Location\n",
    "    \n",
    "print(\"All Downloads Completed\")"
   ]
  },
  {
   "cell_type": "markdown",
   "id": "3f8dc620-f5ea-4560-9dfb-8b87bb2d0caa",
   "metadata": {},
   "source": [
    "### YouTube Song Downloader"
   ]
  },
  {
   "cell_type": "code",
   "execution_count": 2,
   "id": "e662b6a4-4424-419f-9f58-9cd1d3000fec",
   "metadata": {},
   "outputs": [
    {
     "name": "stdout",
     "output_type": "stream",
     "text": [
      "Downloading Audio From 彭席彥/Franky弗蘭奇 - 再見莫妮卡『月光溫柔纏綿 迷霧模糊你的臉，教唆蜜語甜言。』【動態歌詞Lyrics】...\n",
      "彭席彥/Franky弗蘭奇 - 再見莫妮卡『月光溫柔纏綿 迷霧模糊你的臉，教唆蜜語甜言。』【動態歌詞Lyrics】 has been successfully downloaded.\n",
      "All Downloads Completed\n"
     ]
    }
   ],
   "source": [
    "# YouTube URL\n",
    "links = ['https://www.youtube.com/watch?v=zFZALG0Y5L0&list=RDzFZALG0Y5L0&index=2&ab_channel=EHPMusicChannel']\n",
    "dl_loc = \"C:\\\\Users\\\\LouLedesma\\\\Downloads\\\\\"\n",
    "\n",
    "for link in links:\n",
    "    yt = YouTube(link)\n",
    "\n",
    "    # Extract Audio\n",
    "    print(f\"Downloading Audio From {yt.title}...\")\n",
    "    song = yt.streams.filter(only_audio=True).first()\n",
    "    out_file = song.download(dl_loc)\n",
    "\n",
    "    # Download Song\n",
    "    base, ext = os.path.splitext(out_file)\n",
    "    new_file = base + '.mp3'\n",
    "    os.rename(out_file, new_file)\n",
    "\n",
    "    # Success Message\n",
    "    print(yt.title + \" has been successfully downloaded.\")\n",
    "    \n",
    "print(\"All Downloads Completed\")"
   ]
  },
  {
   "cell_type": "code",
   "execution_count": null,
   "id": "1b2423de-6b0d-4f19-bd13-fa856dfc8b29",
   "metadata": {},
   "outputs": [],
   "source": []
  },
  {
   "cell_type": "code",
   "execution_count": null,
   "id": "3989343f-5d90-417b-8944-9ae0eefcff2a",
   "metadata": {},
   "outputs": [],
   "source": []
  }
 ],
 "metadata": {
  "kernelspec": {
   "display_name": "Python 3 (ipykernel)",
   "language": "python",
   "name": "python3"
  },
  "language_info": {
   "codemirror_mode": {
    "name": "ipython",
    "version": 3
   },
   "file_extension": ".py",
   "mimetype": "text/x-python",
   "name": "python",
   "nbconvert_exporter": "python",
   "pygments_lexer": "ipython3",
   "version": "3.9.7"
  }
 },
 "nbformat": 4,
 "nbformat_minor": 5
}
