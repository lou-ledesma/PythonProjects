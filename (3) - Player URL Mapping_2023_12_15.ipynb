{
 "cells": [
  {
   "cell_type": "code",
   "execution_count": 1,
   "id": "6c21f282",
   "metadata": {},
   "outputs": [],
   "source": [
    "import requests\n",
    "from bs4 import BeautifulSoup\n",
    "import pandas as pd\n",
    "import re\n",
    "import os\n",
    "import unicodedata"
   ]
  },
  {
   "cell_type": "code",
   "execution_count": 2,
   "id": "9a3a97a2",
   "metadata": {},
   "outputs": [],
   "source": [
    "def convert_foreign_characters(text):\n",
    "    return unicodedata.normalize('NFD', text).encode('ascii', 'ignore').decode('utf-8')"
   ]
  },
  {
   "cell_type": "code",
   "execution_count": 3,
   "id": "48086a0d",
   "metadata": {},
   "outputs": [],
   "source": [
    "# Extracting Data from BBall Reference\n",
    "year = 2024\n",
    "url = f'https://www.basketball-reference.com/leagues/NBA_{year}_per_game.html'\n",
    "data = requests.get(url) #retrieve data from basketball reference\n",
    "page = data.text #extract html\n",
    "soup = BeautifulSoup(page, 'html.parser') # parse html\n",
    "\n",
    "# Adding all td elements to list\n",
    "link_list = []\n",
    "for link in soup.findAll('td'):\n",
    "    link_list.append(link)"
   ]
  },
  {
   "cell_type": "code",
   "execution_count": 4,
   "id": "c710daba",
   "metadata": {},
   "outputs": [],
   "source": [
    "# Taking the extracted data and parsing strings\n",
    "player_name_list = []\n",
    "url_params_list = []\n",
    "\n",
    "for link in link_list:\n",
    "    if \"data-append-csv\" in str(link):\n",
    "        player_name = re.search(r'csk=\"(\\S+)\"', str(link)) \n",
    "        url_param = re.search(r'data-append-csv=\"(\\S+)\"', str(link))\n",
    "        player_name_list.append(player_name)\n",
    "        url_params_list.append(url_param)"
   ]
  },
  {
   "cell_type": "code",
   "execution_count": 5,
   "id": "7be1b176",
   "metadata": {},
   "outputs": [],
   "source": [
    "# Clean and transform player names\n",
    "player_list = []\n",
    "\n",
    "for player in player_name_list:\n",
    "    clean_name = str(player).split(\"csk=\")[-1].replace('\"', '').replace(\"'>\", \"\")\n",
    "    split_names = clean_name.split(\",\")\n",
    "    first_last = split_names[-1] + \" \" + split_names[0]\n",
    "    player_list.append(first_last)"
   ]
  },
  {
   "cell_type": "code",
   "execution_count": 6,
   "id": "a25f33fb",
   "metadata": {},
   "outputs": [],
   "source": [
    "# Clean and transform url parameters\n",
    "param_list = []\n",
    "\n",
    "for url in url_params_list:\n",
    "    param = str(url).split(\"data-append-csv=\")[-1].replace('\"', '').replace(\"'>\", \"\")\n",
    "    param_list.append(param)"
   ]
  },
  {
   "cell_type": "markdown",
   "id": "57c91c30",
   "metadata": {},
   "source": [
    "# 12/1/2023 Update - Bring in Player Position"
   ]
  },
  {
   "cell_type": "code",
   "execution_count": 7,
   "id": "b56673d2",
   "metadata": {},
   "outputs": [],
   "source": [
    "position_list = []\n",
    "\n",
    "for link in link_list:\n",
    "    if 'data-stat=\"pos\"' in str(link):\n",
    "        position_list.append(str(link).split(\" \")[-1])"
   ]
  },
  {
   "cell_type": "code",
   "execution_count": 8,
   "id": "2fb17d78",
   "metadata": {},
   "outputs": [],
   "source": [
    "clean_positions = []\n",
    "\n",
    "for pos in position_list:\n",
    "    prefix_clean = pos.split('data-stat=\"pos\"')[-1].replace(\">\", \"\")\n",
    "    suffix_clean = prefix_clean.split(\"<\")[0]\n",
    "    clean_positions.append(suffix_clean)"
   ]
  },
  {
   "cell_type": "code",
   "execution_count": 15,
   "id": "134da4e2",
   "metadata": {},
   "outputs": [],
   "source": [
    "team_list = []\n",
    "\n",
    "for link in link_list:\n",
    "    if 'data-stat=\"team_id\"' in str(link):\n",
    "        team_list.append(str(link).split('2024.html\">')[-1][:3])"
   ]
  },
  {
   "cell_type": "code",
   "execution_count": 17,
   "id": "0a06cecf",
   "metadata": {},
   "outputs": [
    {
     "name": "stdout",
     "output_type": "stream",
     "text": [
      "File Saved to C:\\Users\\loudr\\Desktop\\NBA Sports Betting Models\\Scripts!\n"
     ]
    }
   ],
   "source": [
    "# combine and read into pandas\n",
    "player_param_pair = dict(zip(player_list, param_list))\n",
    "player_position_pair = dict(zip(player_list,clean_positions))\n",
    "player_team_pair = dict(zip(player_list, team_list))\n",
    "\n",
    "# Create Mappings for each player based on position and URL parameter\n",
    "player_pos_df = pd.DataFrame(player_position_pair.items(), columns = ['Name', 'Pos'])\n",
    "player_param_df = pd.DataFrame(player_param_pair.items(), columns =['Name', 'URL_Param'])\n",
    "player_team_df = pd.DataFrame(player_team_pair.items(), columns = ['Name', 'Team'])\n",
    "\n",
    "# join both data sources on position\n",
    "df = player_param_df.merge(player_pos_df, on = 'Name')\n",
    "df = df.merge(player_team_df, on = 'Name')\n",
    "df['Name'] = df['Name'].apply(convert_foreign_characters) # Clean foreign characters\n",
    "df['Name'] = df['Name'].str.replace(\"'\", \"\")\n",
    "df['Name'] = df['Name'].str.lower()\n",
    "\n",
    "file_name = f'REFERENCE TABLE - Player URL Mapping {year-1}-{year} Season.xlsx'\n",
    "df.to_excel(file_name, index = False)\n",
    "print(f'File Saved to {os.getcwd()}!')"
   ]
  },
  {
   "cell_type": "code",
   "execution_count": 18,
   "id": "7f332a04",
   "metadata": {},
   "outputs": [
    {
     "data": {
      "text/html": [
       "<div>\n",
       "<style scoped>\n",
       "    .dataframe tbody tr th:only-of-type {\n",
       "        vertical-align: middle;\n",
       "    }\n",
       "\n",
       "    .dataframe tbody tr th {\n",
       "        vertical-align: top;\n",
       "    }\n",
       "\n",
       "    .dataframe thead th {\n",
       "        text-align: right;\n",
       "    }\n",
       "</style>\n",
       "<table border=\"1\" class=\"dataframe\">\n",
       "  <thead>\n",
       "    <tr style=\"text-align: right;\">\n",
       "      <th></th>\n",
       "      <th>Name</th>\n",
       "      <th>URL_Param</th>\n",
       "      <th>Pos</th>\n",
       "      <th>Team</th>\n",
       "    </tr>\n",
       "  </thead>\n",
       "  <tbody>\n",
       "    <tr>\n",
       "      <th>134</th>\n",
       "      <td>de\\aaron fox</td>\n",
       "      <td>foxde01</td>\n",
       "      <td>PG</td>\n",
       "      <td>SAC</td>\n",
       "    </tr>\n",
       "  </tbody>\n",
       "</table>\n",
       "</div>"
      ],
      "text/plain": [
       "             Name URL_Param Pos Team\n",
       "134  de\\aaron fox   foxde01  PG  SAC"
      ]
     },
     "execution_count": 18,
     "metadata": {},
     "output_type": "execute_result"
    }
   ],
   "source": [
    "df[df['Name'].str.contains(\"fox\", case = False)] # Clean \"\\\""
   ]
  },
  {
   "cell_type": "code",
   "execution_count": 22,
   "id": "66a0fbf7",
   "metadata": {},
   "outputs": [
    {
     "data": {
      "text/plain": [
       "array(['TOR', 'MIA', 'UTA', 'MEM', 'MIN', 'PHO', 'CLE', 'NOP', 'MIL',\n",
       "       'ORL', 'NYK', 'WAS', 'POR', 'DET', 'CHO', 'PHI', 'BOS', 'SAS',\n",
       "       'SAC', '<td', 'LAC', 'OKC', 'ATL', 'CHI', 'DEN', 'BRK', 'HOU',\n",
       "       'IND', 'DAL', 'LAL', 'GSW'], dtype=object)"
      ]
     },
     "execution_count": 22,
     "metadata": {},
     "output_type": "execute_result"
    }
   ],
   "source": [
    "pd.DataFrame(team_list)[0].unique() # Checking for any erroneous team assignments"
   ]
  },
  {
   "cell_type": "code",
   "execution_count": null,
   "id": "879df84b",
   "metadata": {},
   "outputs": [],
   "source": []
  },
  {
   "cell_type": "code",
   "execution_count": null,
   "id": "3c8bee4f",
   "metadata": {},
   "outputs": [],
   "source": []
  }
 ],
 "metadata": {
  "kernelspec": {
   "display_name": "Python 3",
   "language": "python",
   "name": "python3"
  },
  "language_info": {
   "codemirror_mode": {
    "name": "ipython",
    "version": 3
   },
   "file_extension": ".py",
   "mimetype": "text/x-python",
   "name": "python",
   "nbconvert_exporter": "python",
   "pygments_lexer": "ipython3",
   "version": "3.7.6"
  }
 },
 "nbformat": 4,
 "nbformat_minor": 5
}
