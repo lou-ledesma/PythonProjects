{
 "cells": [
  {
   "cell_type": "code",
   "execution_count": null,
   "id": "d929da8f",
   "metadata": {},
   "outputs": [],
   "source": [
    "import pandas as pd\n",
    "import numpy as np\n",
    "import os\n",
    "from selenium import webdriver\n",
    "from selenium.webdriver.common.by import By\n",
    "from selenium.webdriver.common.keys import Keys\n",
    "from selenium.webdriver.common.action_chains import ActionChains\n",
    "from getpass import getpass\n",
    "import time"
   ]
  },
  {
   "cell_type": "code",
   "execution_count": null,
   "id": "de0b8a53",
   "metadata": {},
   "outputs": [],
   "source": [
    "# Input LinkedIn Login Credentials\n",
    "username = input(\"Enter your email/phone number: \")\n",
    "password = getpass(\"Enter your password: \")"
   ]
  },
  {
   "cell_type": "code",
   "execution_count": null,
   "id": "3397f7d3",
   "metadata": {},
   "outputs": [],
   "source": [
    "# Initiate Chrome Driver\n",
    "# Ensure that your computer has chrome driver downloaded and located in the same directory as this script\n",
    "# If scaling, we can containerize all of the necessary dependencies to ensure script runs seamlessly (or run and structed a cloud based job)\n",
    "driver = webdriver.Chrome()\n",
    "driver.get(\"https://www.linkedin.com/login?fromSignIn=true&trk=guest_homepage-basic_nav-header-signin\")\n",
    "\n",
    "# Input LinkedIn Username\n",
    "username_input = driver.find_element(By.ID, \"username\")\n",
    "username_input.send_keys(username)\n",
    "\n",
    "# Input LinkedIn Password\n",
    "password_input = driver.find_element(By.ID, \"password\")\n",
    "password_input.send_keys(password)\n",
    "\n",
    "# Press 'enter' key after credentials are inserted\n",
    "actions = ActionChains(driver)\n",
    "actions.send_keys(Keys.ENTER)\n",
    "actions.perform()\n",
    "\n",
    "# Set delay to give user time to confirm login via MFA\n",
    "# Can be improved and scaled using Try/Except error handling clauses to ensure script does not break\n",
    "# Click on the 'Jobs' tab on the LinkedIn home page once logged in\n",
    "time.sleep(45)\n",
    "job_button = driver.find_element(By.CSS_SELECTOR, \"[href='https://www.linkedin.com/jobs/?']\")\n",
    "job_button.click()\n",
    "\n",
    "# Click on the 'My Jobs' sub-tab on the LinkedIn 'Jobs' page\n",
    "time.sleep(5)\n",
    "my_jobs = driver.find_element(By.PARTIAL_LINK_TEXT, \"My jobs\")\n",
    "my_jobs.click()\n",
    "\n",
    "# Click on 'Applied' button/bubble \n",
    "time.sleep(5)\n",
    "applications_xpath = '//*[@id=\"search-reusables__filters-bar\"]/ul/li[3]/button'\n",
    "applied_button = driver.find_element(By.XPATH, applications_xpath)\n",
    "applied_button.click()"
   ]
  },
  {
   "cell_type": "code",
   "execution_count": null,
   "id": "a2c8b38c",
   "metadata": {},
   "outputs": [],
   "source": [
    "# Set the amount of pages we want to scrape job data from (page_amount)\n",
    "time.sleep(5)\n",
    "page_amount = 2\n",
    "universal_xpath = f\"/html/body/div[5]/div[3]/div/main/section/div/div[2]/div/ul\"\n",
    "\n",
    "job_titles = []\n",
    "companies = []\n",
    "locations = []\n",
    "application_time = []\n",
    "\n",
    "for i in range(page_amount):\n",
    "    \n",
    "    # Determine the maximum number of jobs being displayed in the jobs page\n",
    "    page_max = int(len(driver.find_element(By.XPATH, universal_xpath).text.split(\"\\n\"))/4)\n",
    "    job_listing = list(range(1,page_max+1))\n",
    "\n",
    "    # Scrape and parse job data and populate the 4 empty lists above (job_titles, companies, locations, application_time)\n",
    "    for x in job_listing:\n",
    "        XPATH = f\"/html/body/div[5]/div[3]/div/main/section/div/div[2]/div/ul/li[{x}]\"\n",
    "        job = driver.find_element(By.XPATH, XPATH)\n",
    "        job_data = str(job.text).split(\"\\n\")\n",
    "        job_titles.append(job_data[0])\n",
    "        companies.append(job_data[1])\n",
    "        locations.append(job_data[2])\n",
    "        application_time.append(job_data[3])\n",
    "        print(job_data)\n",
    "\n",
    "    # Click the 'Next' button on the bottom of webpage to automatically move to the next page\n",
    "    next_page_button = driver.find_element(By.XPATH, '/html/body/div[5]/div[3]/div/main/section/div/div[3]/button[2]')\n",
    "\n",
    "    next_page_button.text\n",
    "    next_page_button.click()\n",
    "    time.sleep(5)"
   ]
  },
  {
   "cell_type": "code",
   "execution_count": null,
   "id": "a68e341b",
   "metadata": {},
   "outputs": [],
   "source": [
    "# Combine data and structure as pandas dataframe\n",
    "data = list(zip(job_titles, companies, locations, application_time))\n",
    "column_names = ['job_title', 'company', 'location', 'application_time']\n",
    "\n",
    "df = pd.DataFrame(data, columns= column_names)\n",
    "\n",
    "# Export CSV file containing this data\n",
    "file_name = f\"{username} LinkedIn Job Applications.csv\"\n",
    "df.to_csv(file_name, index = False)"
   ]
  },
  {
   "cell_type": "code",
   "execution_count": null,
   "id": "925af7bb",
   "metadata": {},
   "outputs": [],
   "source": []
  }
 ],
 "metadata": {
  "kernelspec": {
   "display_name": "Python 3",
   "language": "python",
   "name": "python3"
  },
  "language_info": {
   "codemirror_mode": {
    "name": "ipython",
    "version": 3
   },
   "file_extension": ".py",
   "mimetype": "text/x-python",
   "name": "python",
   "nbconvert_exporter": "python",
   "pygments_lexer": "ipython3",
   "version": "3.7.6"
  }
 },
 "nbformat": 4,
 "nbformat_minor": 5
}
